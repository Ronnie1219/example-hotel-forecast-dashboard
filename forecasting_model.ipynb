{
 "cells": [
  {
   "cell_type": "markdown",
   "id": "3a7eaf59",
   "metadata": {},
   "source": [
    "# Hotel Booking Forecasting Analysis\n",
    "This notebook forecasts hotel revenue and occupancy using different statistical methods."
   ]
  },
  {
   "cell_type": "code",
   "execution_count": null,
   "id": "3a0ce90b",
   "metadata": {},
   "outputs": [],
   "source": [
    "\n",
    "import pandas as pd\n",
    "import matplotlib.pyplot as plt\n",
    "from statsmodels.tsa.holtwinters import ExponentialSmoothing\n",
    "from sklearn.linear_model import LinearRegression\n",
    "import numpy as np\n",
    "\n",
    "# Load data\n",
    "df = pd.read_csv('../data/bookings_data.csv')\n",
    "df['Month'] = pd.to_datetime(df['Month'])\n",
    "df.set_index('Month', inplace=True)\n",
    "df.head()\n"
   ]
  },
  {
   "cell_type": "markdown",
   "id": "60cd8f38",
   "metadata": {},
   "source": [
    "### 1. Visualize Revenue and Occupancy Trends"
   ]
  },
  {
   "cell_type": "code",
   "execution_count": null,
   "id": "90088d47",
   "metadata": {},
   "outputs": [],
   "source": [
    "\n",
    "df[['Revenue ($)', 'Occupancy_Rate (%)']].plot(subplots=True, figsize=(12,6), title='Monthly Trends')\n",
    "plt.tight_layout()\n",
    "plt.show()\n"
   ]
  },
  {
   "cell_type": "markdown",
   "id": "df602c4d",
   "metadata": {},
   "source": [
    "### 2. Linear Regression Forecasting"
   ]
  },
  {
   "cell_type": "code",
   "execution_count": null,
   "id": "914b8f20",
   "metadata": {},
   "outputs": [],
   "source": [
    "\n",
    "# Prepare data\n",
    "df['Time'] = np.arange(len(df))\n",
    "X = df[['Time']]\n",
    "y = df['Revenue ($)']\n",
    "model = LinearRegression().fit(X, y)\n",
    "df['Linear_Forecast'] = model.predict(X)\n",
    "\n",
    "# Plot\n",
    "plt.figure(figsize=(10,4))\n",
    "plt.plot(df.index, df['Revenue ($)'], label='Actual')\n",
    "plt.plot(df.index, df['Linear_Forecast'], label='Linear Forecast', linestyle='--')\n",
    "plt.title('Linear Regression Forecast')\n",
    "plt.legend()\n",
    "plt.show()\n"
   ]
  },
  {
   "cell_type": "markdown",
   "id": "97ca7fb0",
   "metadata": {},
   "source": [
    "### 3. Exponential Smoothing Forecasting"
   ]
  },
  {
   "cell_type": "code",
   "execution_count": null,
   "id": "85032cf7",
   "metadata": {},
   "outputs": [],
   "source": [
    "\n",
    "model_exp = ExponentialSmoothing(df['Revenue ($)'], trend='add', seasonal=None, seasonal_periods=None)\n",
    "fit_exp = model_exp.fit()\n",
    "df['Exp_Smoothing'] = fit_exp.fittedvalues\n",
    "\n",
    "# Plot\n",
    "plt.figure(figsize=(10,4))\n",
    "plt.plot(df.index, df['Revenue ($)'], label='Actual')\n",
    "plt.plot(df.index, df['Exp_Smoothing'], label='Exp Smoothing', linestyle='--')\n",
    "plt.title('Exponential Smoothing Forecast')\n",
    "plt.legend()\n",
    "plt.show()\n"
   ]
  }
 ],
 "metadata": {},
 "nbformat": 4,
 "nbformat_minor": 5
}
